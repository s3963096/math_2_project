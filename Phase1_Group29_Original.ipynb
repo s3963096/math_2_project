{
 "cells": [
  {
   "cell_type": "markdown",
   "metadata": {
    "id": "5Wqm6ibaMbxs"
   },
   "source": [
    "# Predicting Abalone Age\n",
    "## Phase 1: Data Preparation & Visualization\n",
    "**Group Name: Group 29**\n",
    "\n",
    "**Name(s) & ID(s) of Group Members:**\n",
    "\n",
    "\n",
    "Chris Park (s3973667),\n",
    "Henry Van Toledo (s3849054),\n",
    "Luka Finn Shannon Hill (s3948396),\n",
    "Wai Yan Lin (s3963096)\n",
    "***"
   ]
  },
  {
   "cell_type": "markdown",
   "metadata": {},
   "source": [
    "## Table of contents\n",
    "* [Introduction](#itr)\n",
    "    + [Dataset Source](#dataset-source)\n",
    "    + [Dataset Details](#dataset-details)\n",
    "    + [Dataset Variables](#dataset-variables)\n",
    "    + [Response Variable](#response-variable)\n",
    "* [Goals and Objectives](#goals-and-objectives)\n",
    "***"
   ]
  },
  {
   "cell_type": "markdown",
   "metadata": {},
   "source": [
    "## Introduction <a id=\"itr\"></a>\n",
    "### Dataset Source\n",
    "The abalone dataset used in this notebook was sourced from the UCI machine learning repository which was provided in Akmand's dataset repository. This dataset contaiins several different attributes relating to an abalone's weights, measurements, gender and rings. The abalones from this dataset were collected from the Bass Strait, which is located between Australia and mainland Australia."
   ]
  },
  {
   "cell_type": "markdown",
   "metadata": {},
   "source": [
    "## Dataset Details\n",
    "\n",
    "This dataset is simply about abalones and contains information on the properties of each individual abalone added to the database. These properties are the physical measurements, physical weights, gender, and the number of rings of an abalone. We will be using this data to predict the age of an abalone which is determined by the number of rings on it plus 1.5. **We will add this new variable to the dataset.** "
   ]
  },
  {
   "cell_type": "code",
   "execution_count": 60,
   "metadata": {
    "colab": {
     "base_uri": "https://localhost:8080/",
     "height": 424
    },
    "id": "Ox0lIp-a5JUv",
    "outputId": "2efbdedd-9158-475f-9973-af185298afc6"
   },
   "outputs": [
    {
     "data": {
      "text/html": [
       "<div>\n",
       "<style scoped>\n",
       "    .dataframe tbody tr th:only-of-type {\n",
       "        vertical-align: middle;\n",
       "    }\n",
       "\n",
       "    .dataframe tbody tr th {\n",
       "        vertical-align: top;\n",
       "    }\n",
       "\n",
       "    .dataframe thead th {\n",
       "        text-align: right;\n",
       "    }\n",
       "</style>\n",
       "<table border=\"1\" class=\"dataframe\">\n",
       "  <thead>\n",
       "    <tr style=\"text-align: right;\">\n",
       "      <th></th>\n",
       "      <th>Gender</th>\n",
       "      <th>Length</th>\n",
       "      <th>Diameter</th>\n",
       "      <th>Height</th>\n",
       "      <th>Whole weight</th>\n",
       "      <th>Shucked weight</th>\n",
       "      <th>Viscera weight</th>\n",
       "      <th>Shell weight</th>\n",
       "      <th>Rings</th>\n",
       "      <th>Age</th>\n",
       "    </tr>\n",
       "  </thead>\n",
       "  <tbody>\n",
       "    <tr>\n",
       "      <th>190</th>\n",
       "      <td>M</td>\n",
       "      <td>0.615</td>\n",
       "      <td>0.480</td>\n",
       "      <td>0.180</td>\n",
       "      <td>1.1595</td>\n",
       "      <td>0.4845</td>\n",
       "      <td>0.2165</td>\n",
       "      <td>0.3250</td>\n",
       "      <td>13</td>\n",
       "      <td>14.5</td>\n",
       "    </tr>\n",
       "    <tr>\n",
       "      <th>4102</th>\n",
       "      <td>M</td>\n",
       "      <td>0.680</td>\n",
       "      <td>0.545</td>\n",
       "      <td>0.185</td>\n",
       "      <td>1.6720</td>\n",
       "      <td>0.7075</td>\n",
       "      <td>0.3640</td>\n",
       "      <td>0.4800</td>\n",
       "      <td>11</td>\n",
       "      <td>12.5</td>\n",
       "    </tr>\n",
       "    <tr>\n",
       "      <th>1293</th>\n",
       "      <td>I</td>\n",
       "      <td>0.520</td>\n",
       "      <td>0.400</td>\n",
       "      <td>0.130</td>\n",
       "      <td>0.5825</td>\n",
       "      <td>0.2330</td>\n",
       "      <td>0.1365</td>\n",
       "      <td>0.1800</td>\n",
       "      <td>10</td>\n",
       "      <td>11.5</td>\n",
       "    </tr>\n",
       "    <tr>\n",
       "      <th>1800</th>\n",
       "      <td>M</td>\n",
       "      <td>0.605</td>\n",
       "      <td>0.475</td>\n",
       "      <td>0.175</td>\n",
       "      <td>1.2525</td>\n",
       "      <td>0.5575</td>\n",
       "      <td>0.3055</td>\n",
       "      <td>0.3430</td>\n",
       "      <td>9</td>\n",
       "      <td>10.5</td>\n",
       "    </tr>\n",
       "    <tr>\n",
       "      <th>1167</th>\n",
       "      <td>M</td>\n",
       "      <td>0.620</td>\n",
       "      <td>0.470</td>\n",
       "      <td>0.135</td>\n",
       "      <td>1.0195</td>\n",
       "      <td>0.5315</td>\n",
       "      <td>0.2005</td>\n",
       "      <td>0.2475</td>\n",
       "      <td>8</td>\n",
       "      <td>9.5</td>\n",
       "    </tr>\n",
       "    <tr>\n",
       "      <th>1858</th>\n",
       "      <td>F</td>\n",
       "      <td>0.510</td>\n",
       "      <td>0.400</td>\n",
       "      <td>0.120</td>\n",
       "      <td>0.7005</td>\n",
       "      <td>0.3470</td>\n",
       "      <td>0.1105</td>\n",
       "      <td>0.1950</td>\n",
       "      <td>10</td>\n",
       "      <td>11.5</td>\n",
       "    </tr>\n",
       "    <tr>\n",
       "      <th>2804</th>\n",
       "      <td>F</td>\n",
       "      <td>0.660</td>\n",
       "      <td>0.505</td>\n",
       "      <td>0.190</td>\n",
       "      <td>1.4045</td>\n",
       "      <td>0.6255</td>\n",
       "      <td>0.3375</td>\n",
       "      <td>0.3745</td>\n",
       "      <td>9</td>\n",
       "      <td>10.5</td>\n",
       "    </tr>\n",
       "    <tr>\n",
       "      <th>714</th>\n",
       "      <td>M</td>\n",
       "      <td>0.350</td>\n",
       "      <td>0.255</td>\n",
       "      <td>0.080</td>\n",
       "      <td>0.1915</td>\n",
       "      <td>0.0800</td>\n",
       "      <td>0.0385</td>\n",
       "      <td>0.0630</td>\n",
       "      <td>9</td>\n",
       "      <td>10.5</td>\n",
       "    </tr>\n",
       "    <tr>\n",
       "      <th>108</th>\n",
       "      <td>F</td>\n",
       "      <td>0.510</td>\n",
       "      <td>0.390</td>\n",
       "      <td>0.135</td>\n",
       "      <td>0.6335</td>\n",
       "      <td>0.2310</td>\n",
       "      <td>0.1790</td>\n",
       "      <td>0.2000</td>\n",
       "      <td>9</td>\n",
       "      <td>10.5</td>\n",
       "    </tr>\n",
       "    <tr>\n",
       "      <th>75</th>\n",
       "      <td>F</td>\n",
       "      <td>0.600</td>\n",
       "      <td>0.475</td>\n",
       "      <td>0.150</td>\n",
       "      <td>1.0075</td>\n",
       "      <td>0.4425</td>\n",
       "      <td>0.2210</td>\n",
       "      <td>0.2800</td>\n",
       "      <td>15</td>\n",
       "      <td>16.5</td>\n",
       "    </tr>\n",
       "  </tbody>\n",
       "</table>\n",
       "</div>"
      ],
      "text/plain": [
       "     Gender  Length  Diameter  Height  Whole weight  Shucked weight  \\\n",
       "190       M   0.615     0.480   0.180        1.1595          0.4845   \n",
       "4102      M   0.680     0.545   0.185        1.6720          0.7075   \n",
       "1293      I   0.520     0.400   0.130        0.5825          0.2330   \n",
       "1800      M   0.605     0.475   0.175        1.2525          0.5575   \n",
       "1167      M   0.620     0.470   0.135        1.0195          0.5315   \n",
       "1858      F   0.510     0.400   0.120        0.7005          0.3470   \n",
       "2804      F   0.660     0.505   0.190        1.4045          0.6255   \n",
       "714       M   0.350     0.255   0.080        0.1915          0.0800   \n",
       "108       F   0.510     0.390   0.135        0.6335          0.2310   \n",
       "75        F   0.600     0.475   0.150        1.0075          0.4425   \n",
       "\n",
       "      Viscera weight  Shell weight  Rings   Age  \n",
       "190           0.2165        0.3250     13  14.5  \n",
       "4102          0.3640        0.4800     11  12.5  \n",
       "1293          0.1365        0.1800     10  11.5  \n",
       "1800          0.3055        0.3430      9  10.5  \n",
       "1167          0.2005        0.2475      8   9.5  \n",
       "1858          0.1105        0.1950     10  11.5  \n",
       "2804          0.3375        0.3745      9  10.5  \n",
       "714           0.0385        0.0630      9  10.5  \n",
       "108           0.1790        0.2000      9  10.5  \n",
       "75            0.2210        0.2800     15  16.5  "
      ]
     },
     "execution_count": 60,
     "metadata": {},
     "output_type": "execute_result"
    }
   ],
   "source": [
    "# Imports\n",
    "import pandas as pd\n",
    "import numpy as np\n",
    "import matplotlib.pyplot as plt\n",
    "import seaborn as sns\n",
    "\n",
    "import matplotlib.pyplot as plt\n",
    "%matplotlib inline \n",
    "%config InlineBackend.figure_format = 'retina'\n",
    "plt.style.use(\"ggplot\")\n",
    "\n",
    "# Imported the database that we obtained from the github repository provided in the modules\n",
    "aba_df = pd.read_csv(\"https://raw.githubusercontent.com/akmand/datasets/main/abolone.csv\")\n",
    "aba_df = aba_df.assign(Age = aba_df.Rings + 1.5)\n",
    "aba_df.sample(10, random_state=420)"
   ]
  },
  {
   "cell_type": "markdown",
   "metadata": {},
   "source": [
    "## Dataset Variables"
   ]
  },
  {
   "cell_type": "code",
   "execution_count": 19,
   "metadata": {},
   "outputs": [
    {
     "name": "stdout",
     "output_type": "stream",
     "text": [
      "╒════════════════╤═════════════════════╤═══════════╤═════════════════════════════════════════════════════════════════════════════╕\n",
      "│ Name           │ Data Type           │ Units     │ Description                                                                 │\n",
      "╞════════════════╪═════════════════════╪═══════════╪═════════════════════════════════════════════════════════════════════════════╡\n",
      "│ Gender         │ Nominal Catagorical │ NA        │ M - Male                                                                    │\n",
      "│                │                     │           │ F - Female                                                                  │\n",
      "│                │                     │           │ I - Infant                                                                  │\n",
      "├────────────────┼─────────────────────┼───────────┼─────────────────────────────────────────────────────────────────────────────┤\n",
      "│ Length         │ Numeric             │ Feet      │ Longest shell measurement                                                   │\n",
      "├────────────────┼─────────────────────┼───────────┼─────────────────────────────────────────────────────────────────────────────┤\n",
      "│ Diameter       │ Numeric             │ Feet      │ Diameter of Abalone perpendicular to length                                 │\n",
      "├────────────────┼─────────────────────┼───────────┼─────────────────────────────────────────────────────────────────────────────┤\n",
      "│ Height         │ Numeric             │ Feet      │ Height of abalone with meat in shell                                        │\n",
      "├────────────────┼─────────────────────┼───────────┼─────────────────────────────────────────────────────────────────────────────┤\n",
      "│ Whole weight   │ Numeric             │ Kilogram  │ Weight of whole abalone                                                     │\n",
      "├────────────────┼─────────────────────┼───────────┼─────────────────────────────────────────────────────────────────────────────┤\n",
      "│ Shucked weight │ Numeric             │ Kilograms │ Weight of meat inside the abalone                                           │\n",
      "├────────────────┼─────────────────────┼───────────┼─────────────────────────────────────────────────────────────────────────────┤\n",
      "│ Shucked weight │ Numeric             │ Kilograms │ Weight of flesh after bleeding                                              │\n",
      "├────────────────┼─────────────────────┼───────────┼─────────────────────────────────────────────────────────────────────────────┤\n",
      "│ Shell weight   │ Numeric             │ Kilograms │ Weight after being dried                                                    │\n",
      "├────────────────┼─────────────────────┼───────────┼─────────────────────────────────────────────────────────────────────────────┤\n",
      "│ Rings          │ Numeric             │ Integer   │ Num of rings counted on the inside shell of the abalone                     │\n",
      "├────────────────┼─────────────────────┼───────────┼─────────────────────────────────────────────────────────────────────────────┤\n",
      "│ Age            │ Numeric             │ Years     │ Approximate age of the abalone calculated by adding 1.5 to number of shells │\n",
      "╘════════════════╧═════════════════════╧═══════════╧═════════════════════════════════════════════════════════════════════════════╛\n"
     ]
    }
   ],
   "source": [
    "from tabulate import tabulate\n",
    "\n",
    "table = [['Name','Data Type','Units','Description'],\n",
    "         ['Gender','Nominal Catagorical','NA','M - Male \\nF - Female \\nI - Infant'],\n",
    "         ['Length','Numeric', 'Feet', 'Longest shell measurement' ],\n",
    "         ['Diameter', 'Numeric', 'Feet', 'Diameter of Abalone perpendicular to length' ],\n",
    "         ['Height', 'Numeric', 'Feet', 'Height of abalone with meat in shell'],\n",
    "         ['Whole weight', 'Numeric', 'Kilogram', 'Weight of whole abalone'],\n",
    "         ['Shucked weight', 'Numeric', 'Kilograms', 'Weight of meat inside the abalone'],\n",
    "         ['Shucked weight', 'Numeric', 'Kilograms', 'Weight of flesh after bleeding'],\n",
    "         ['Shell weight', 'Numeric', 'Kilograms', 'Weight after being dried'],\n",
    "         ['Rings', 'Numeric', 'Integer', 'Num of rings counted on the inside shell of the abalone' ],\n",
    "         ['Age', 'Numeric', 'Years', 'Approximate age of the abalone calculated by adding 1.5 to number of shells']]\n",
    "         \n",
    "print(tabulate(table, headers='firstrow', tablefmt='fancy_grid'))"
   ]
  },
  {
   "cell_type": "markdown",
   "metadata": {},
   "source": [
    "# Response Variable\n",
    "For this study the response variable in our dataset will be the age of the abalone. We will be predicting the age of an abalone ( Number of rings + 1.5) by using the other variables in this dataset."
   ]
  },
  {
   "cell_type": "markdown",
   "metadata": {},
   "source": [
    "# Goals & Objectives\n",
    "- being overfished\n",
    "- Being able to determine the age of the abalone without needing to count the rings as counting the rings as to count the number of rings the abalone has to be killed\n",
    "- **The age of Abalone is determined by cutting the shell through the cone and staining it and counting the number of rings through a microscope.** (I copied this)\n",
    "- We will then be able to tell which abalones should be thrown back if fished as they are still not mature\n",
    "- by doing this we will be able to avoid overfishing\n",
    "- al"
   ]
  },
  {
   "cell_type": "markdown",
   "metadata": {},
   "source": [
    "# Data Cleaning and Processing\n",
    "Here we take steps to check and clean the data for our data prediction. Although the data in this dataset already seems cleaned we will still take steps to check if there might be anything that was missed. Also if there are attributes we seem irrevelant to our study they will be dropped. \n"
   ]
  },
  {
   "cell_type": "code",
   "execution_count": 102,
   "metadata": {},
   "outputs": [
    {
     "data": {
      "text/html": [
       "<div>\n",
       "<style scoped>\n",
       "    .dataframe tbody tr th:only-of-type {\n",
       "        vertical-align: middle;\n",
       "    }\n",
       "\n",
       "    .dataframe tbody tr th {\n",
       "        vertical-align: top;\n",
       "    }\n",
       "\n",
       "    .dataframe thead th {\n",
       "        text-align: right;\n",
       "    }\n",
       "</style>\n",
       "<table border=\"1\" class=\"dataframe\">\n",
       "  <thead>\n",
       "    <tr style=\"text-align: right;\">\n",
       "      <th></th>\n",
       "      <th>Gender</th>\n",
       "      <th>Length</th>\n",
       "      <th>Diameter</th>\n",
       "      <th>Height</th>\n",
       "      <th>Whole weight</th>\n",
       "      <th>Shucked weight</th>\n",
       "      <th>Viscera weight</th>\n",
       "      <th>Shell weight</th>\n",
       "      <th>Rings</th>\n",
       "      <th>Age</th>\n",
       "    </tr>\n",
       "  </thead>\n",
       "  <tbody>\n",
       "    <tr>\n",
       "      <th>163</th>\n",
       "      <td>F</td>\n",
       "      <td>0.725</td>\n",
       "      <td>0.560</td>\n",
       "      <td>0.210</td>\n",
       "      <td>2.1410</td>\n",
       "      <td>0.6500</td>\n",
       "      <td>0.3980</td>\n",
       "      <td>1.005</td>\n",
       "      <td>18</td>\n",
       "      <td>19.5</td>\n",
       "    </tr>\n",
       "    <tr>\n",
       "      <th>891</th>\n",
       "      <td>M</td>\n",
       "      <td>0.730</td>\n",
       "      <td>0.595</td>\n",
       "      <td>0.230</td>\n",
       "      <td>2.8255</td>\n",
       "      <td>1.1465</td>\n",
       "      <td>0.4190</td>\n",
       "      <td>0.897</td>\n",
       "      <td>17</td>\n",
       "      <td>18.5</td>\n",
       "    </tr>\n",
       "    <tr>\n",
       "      <th>2161</th>\n",
       "      <td>F</td>\n",
       "      <td>0.715</td>\n",
       "      <td>0.565</td>\n",
       "      <td>0.240</td>\n",
       "      <td>2.1995</td>\n",
       "      <td>0.7245</td>\n",
       "      <td>0.4650</td>\n",
       "      <td>0.885</td>\n",
       "      <td>17</td>\n",
       "      <td>18.5</td>\n",
       "    </tr>\n",
       "    <tr>\n",
       "      <th>2108</th>\n",
       "      <td>M</td>\n",
       "      <td>0.665</td>\n",
       "      <td>0.535</td>\n",
       "      <td>0.225</td>\n",
       "      <td>2.1835</td>\n",
       "      <td>0.7535</td>\n",
       "      <td>0.3910</td>\n",
       "      <td>0.885</td>\n",
       "      <td>27</td>\n",
       "      <td>28.5</td>\n",
       "    </tr>\n",
       "    <tr>\n",
       "      <th>166</th>\n",
       "      <td>F</td>\n",
       "      <td>0.725</td>\n",
       "      <td>0.575</td>\n",
       "      <td>0.175</td>\n",
       "      <td>2.1240</td>\n",
       "      <td>0.7650</td>\n",
       "      <td>0.4515</td>\n",
       "      <td>0.850</td>\n",
       "      <td>20</td>\n",
       "      <td>21.5</td>\n",
       "    </tr>\n",
       "  </tbody>\n",
       "</table>\n",
       "</div>"
      ],
      "text/plain": [
       "     Gender  Length  Diameter  Height  Whole weight  Shucked weight  \\\n",
       "163       F   0.725     0.560   0.210        2.1410          0.6500   \n",
       "891       M   0.730     0.595   0.230        2.8255          1.1465   \n",
       "2161      F   0.715     0.565   0.240        2.1995          0.7245   \n",
       "2108      M   0.665     0.535   0.225        2.1835          0.7535   \n",
       "166       F   0.725     0.575   0.175        2.1240          0.7650   \n",
       "\n",
       "      Viscera weight  Shell weight  Rings   Age  \n",
       "163           0.3980         1.005     18  19.5  \n",
       "891           0.4190         0.897     17  18.5  \n",
       "2161          0.4650         0.885     17  18.5  \n",
       "2108          0.3910         0.885     27  28.5  \n",
       "166           0.4515         0.850     20  21.5  "
      ]
     },
     "execution_count": 102,
     "metadata": {},
     "output_type": "execute_result"
    }
   ],
   "source": [
    "aba_df.sort_values(by=\"Shell weight\" , ascending=False).head()"
   ]
  },
  {
   "cell_type": "markdown",
   "metadata": {},
   "source": [
    "### Data Cleaning Steps\n",
    "- Check for missing values\n",
    "- Remove all the rows with missing values\n",
    "- Random sampling of the dataset for 4000 rows"
   ]
  },
  {
   "cell_type": "code",
   "execution_count": 4,
   "metadata": {},
   "outputs": [
    {
     "data": {
      "text/plain": [
       "Index(['Gender', 'Length', 'Diameter', 'Height', 'Whole weight',\n",
       "       'Shucked weight', 'Viscera weight', 'Shell weight', 'Rings', 'Age'],\n",
       "      dtype='object')"
      ]
     },
     "execution_count": 4,
     "metadata": {},
     "output_type": "execute_result"
    }
   ],
   "source": [
    "aba_df.columns"
   ]
  },
  {
   "cell_type": "code",
   "execution_count": 5,
   "metadata": {},
   "outputs": [
    {
     "name": "stdout",
     "output_type": "stream",
     "text": [
      "Gender            0\n",
      "Length            0\n",
      "Diameter          0\n",
      "Height            0\n",
      "Whole weight      0\n",
      "Shucked weight    0\n",
      "Viscera weight    0\n",
      "Shell weight      0\n",
      "Rings             0\n",
      "Age               0\n",
      "dtype: int64\n"
     ]
    }
   ],
   "source": [
    "print(aba_df.isnull().sum())"
   ]
  },
  {
   "cell_type": "code",
   "execution_count": 6,
   "metadata": {},
   "outputs": [
    {
     "data": {
      "text/html": [
       "<div>\n",
       "<style scoped>\n",
       "    .dataframe tbody tr th:only-of-type {\n",
       "        vertical-align: middle;\n",
       "    }\n",
       "\n",
       "    .dataframe tbody tr th {\n",
       "        vertical-align: top;\n",
       "    }\n",
       "\n",
       "    .dataframe thead th {\n",
       "        text-align: right;\n",
       "    }\n",
       "</style>\n",
       "<table border=\"1\" class=\"dataframe\">\n",
       "  <thead>\n",
       "    <tr style=\"text-align: right;\">\n",
       "      <th></th>\n",
       "      <th>gender</th>\n",
       "      <th>length</th>\n",
       "      <th>diameter</th>\n",
       "      <th>height</th>\n",
       "      <th>whole_weight</th>\n",
       "      <th>shucked_weight</th>\n",
       "      <th>viscera_weight</th>\n",
       "      <th>shell_weight</th>\n",
       "      <th>rings</th>\n",
       "      <th>age</th>\n",
       "    </tr>\n",
       "  </thead>\n",
       "  <tbody>\n",
       "    <tr>\n",
       "      <th>3259</th>\n",
       "      <td>M</td>\n",
       "      <td>0.640</td>\n",
       "      <td>0.505</td>\n",
       "      <td>0.165</td>\n",
       "      <td>1.4435</td>\n",
       "      <td>0.6145</td>\n",
       "      <td>0.3035</td>\n",
       "      <td>0.390</td>\n",
       "      <td>18</td>\n",
       "      <td>19.5</td>\n",
       "    </tr>\n",
       "    <tr>\n",
       "      <th>3583</th>\n",
       "      <td>F</td>\n",
       "      <td>0.625</td>\n",
       "      <td>0.500</td>\n",
       "      <td>0.175</td>\n",
       "      <td>1.2730</td>\n",
       "      <td>0.5640</td>\n",
       "      <td>0.3020</td>\n",
       "      <td>0.374</td>\n",
       "      <td>9</td>\n",
       "      <td>10.5</td>\n",
       "    </tr>\n",
       "    <tr>\n",
       "      <th>1932</th>\n",
       "      <td>F</td>\n",
       "      <td>0.620</td>\n",
       "      <td>0.495</td>\n",
       "      <td>0.170</td>\n",
       "      <td>1.0620</td>\n",
       "      <td>0.3720</td>\n",
       "      <td>0.2130</td>\n",
       "      <td>0.340</td>\n",
       "      <td>11</td>\n",
       "      <td>12.5</td>\n",
       "    </tr>\n",
       "    <tr>\n",
       "      <th>3328</th>\n",
       "      <td>I</td>\n",
       "      <td>0.575</td>\n",
       "      <td>0.475</td>\n",
       "      <td>0.170</td>\n",
       "      <td>0.9670</td>\n",
       "      <td>0.3775</td>\n",
       "      <td>0.2840</td>\n",
       "      <td>0.275</td>\n",
       "      <td>13</td>\n",
       "      <td>14.5</td>\n",
       "    </tr>\n",
       "    <tr>\n",
       "      <th>2426</th>\n",
       "      <td>I</td>\n",
       "      <td>0.565</td>\n",
       "      <td>0.435</td>\n",
       "      <td>0.155</td>\n",
       "      <td>0.7820</td>\n",
       "      <td>0.2715</td>\n",
       "      <td>0.1680</td>\n",
       "      <td>0.285</td>\n",
       "      <td>14</td>\n",
       "      <td>15.5</td>\n",
       "    </tr>\n",
       "  </tbody>\n",
       "</table>\n",
       "</div>"
      ],
      "text/plain": [
       "     gender  length  diameter  height  whole_weight  shucked_weight  \\\n",
       "3259      M   0.640     0.505   0.165        1.4435          0.6145   \n",
       "3583      F   0.625     0.500   0.175        1.2730          0.5640   \n",
       "1932      F   0.620     0.495   0.170        1.0620          0.3720   \n",
       "3328      I   0.575     0.475   0.170        0.9670          0.3775   \n",
       "2426      I   0.565     0.435   0.155        0.7820          0.2715   \n",
       "\n",
       "      viscera_weight  shell_weight  rings   age  \n",
       "3259          0.3035         0.390     18  19.5  \n",
       "3583          0.3020         0.374      9  10.5  \n",
       "1932          0.2130         0.340     11  12.5  \n",
       "3328          0.2840         0.275     13  14.5  \n",
       "2426          0.1680         0.285     14  15.5  "
      ]
     },
     "execution_count": 6,
     "metadata": {},
     "output_type": "execute_result"
    }
   ],
   "source": [
    "aba_df.columns = aba_df.columns.str.lower().str.strip()\n",
    "\n",
    "columns_mapping = {\n",
    "    'whole weight': 'whole_weight',\n",
    "    'shucked weight': 'shucked_weight',\n",
    "    'viscera weight': 'viscera_weight',\n",
    "    'shell weight': 'shell_weight'\n",
    "}\n",
    "\n",
    "# rename columns\n",
    "aba_df = aba_df.rename(columns = columns_mapping)\n",
    "aba_df.sample(5, random_state=999)"
   ]
  },
  {
   "cell_type": "code",
   "execution_count": 7,
   "metadata": {},
   "outputs": [
    {
     "name": "stdout",
     "output_type": "stream",
     "text": [
      "gender             object\n",
      "length            float64\n",
      "diameter          float64\n",
      "height            float64\n",
      "whole_weight      float64\n",
      "shucked_weight    float64\n",
      "viscera_weight    float64\n",
      "shell_weight      float64\n",
      "rings               int64\n",
      "age               float64\n",
      "dtype: object\n"
     ]
    }
   ],
   "source": [
    "print(aba_df.dtypes)"
   ]
  },
  {
   "cell_type": "code",
   "execution_count": 8,
   "metadata": {},
   "outputs": [
    {
     "data": {
      "text/html": [
       "<div>\n",
       "<style scoped>\n",
       "    .dataframe tbody tr th:only-of-type {\n",
       "        vertical-align: middle;\n",
       "    }\n",
       "\n",
       "    .dataframe tbody tr th {\n",
       "        vertical-align: top;\n",
       "    }\n",
       "\n",
       "    .dataframe thead th {\n",
       "        text-align: right;\n",
       "    }\n",
       "</style>\n",
       "<table border=\"1\" class=\"dataframe\">\n",
       "  <thead>\n",
       "    <tr style=\"text-align: right;\">\n",
       "      <th></th>\n",
       "      <th>count</th>\n",
       "      <th>unique</th>\n",
       "      <th>top</th>\n",
       "      <th>freq</th>\n",
       "    </tr>\n",
       "  </thead>\n",
       "  <tbody>\n",
       "    <tr>\n",
       "      <th>gender</th>\n",
       "      <td>4177</td>\n",
       "      <td>3</td>\n",
       "      <td>M</td>\n",
       "      <td>1528</td>\n",
       "    </tr>\n",
       "  </tbody>\n",
       "</table>\n",
       "</div>"
      ],
      "text/plain": [
       "       count unique top  freq\n",
       "gender  4177      3   M  1528"
      ]
     },
     "execution_count": 8,
     "metadata": {},
     "output_type": "execute_result"
    }
   ],
   "source": [
    "aba_df.describe(include='object').T"
   ]
  },
  {
   "cell_type": "code",
   "execution_count": 9,
   "metadata": {},
   "outputs": [
    {
     "name": "stdout",
     "output_type": "stream",
     "text": [
      "Unique values for gender\n",
      "['M' 'F' 'I']\n",
      "\n"
     ]
    }
   ],
   "source": [
    "categoricalColumns = aba_df.columns[aba_df.dtypes==object].tolist()\n",
    "\n",
    "for col in categoricalColumns:\n",
    "    print('Unique values for ' + col)\n",
    "    print(aba_df[col].unique())\n",
    "    print('')"
   ]
  },
  {
   "cell_type": "code",
   "execution_count": 10,
   "metadata": {},
   "outputs": [
    {
     "data": {
      "text/html": [
       "<div>\n",
       "<style scoped>\n",
       "    .dataframe tbody tr th:only-of-type {\n",
       "        vertical-align: middle;\n",
       "    }\n",
       "\n",
       "    .dataframe tbody tr th {\n",
       "        vertical-align: top;\n",
       "    }\n",
       "\n",
       "    .dataframe thead th {\n",
       "        text-align: right;\n",
       "    }\n",
       "</style>\n",
       "<table border=\"1\" class=\"dataframe\">\n",
       "  <thead>\n",
       "    <tr style=\"text-align: right;\">\n",
       "      <th></th>\n",
       "      <th>count</th>\n",
       "      <th>mean</th>\n",
       "      <th>std</th>\n",
       "      <th>min</th>\n",
       "      <th>25%</th>\n",
       "      <th>50%</th>\n",
       "      <th>75%</th>\n",
       "      <th>max</th>\n",
       "    </tr>\n",
       "  </thead>\n",
       "  <tbody>\n",
       "    <tr>\n",
       "      <th>length</th>\n",
       "      <td>4177.0</td>\n",
       "      <td>0.523992</td>\n",
       "      <td>0.120093</td>\n",
       "      <td>0.0750</td>\n",
       "      <td>0.4500</td>\n",
       "      <td>0.5450</td>\n",
       "      <td>0.615</td>\n",
       "      <td>0.8150</td>\n",
       "    </tr>\n",
       "    <tr>\n",
       "      <th>diameter</th>\n",
       "      <td>4177.0</td>\n",
       "      <td>0.407881</td>\n",
       "      <td>0.099240</td>\n",
       "      <td>0.0550</td>\n",
       "      <td>0.3500</td>\n",
       "      <td>0.4250</td>\n",
       "      <td>0.480</td>\n",
       "      <td>0.6500</td>\n",
       "    </tr>\n",
       "    <tr>\n",
       "      <th>height</th>\n",
       "      <td>4177.0</td>\n",
       "      <td>0.139516</td>\n",
       "      <td>0.041827</td>\n",
       "      <td>0.0000</td>\n",
       "      <td>0.1150</td>\n",
       "      <td>0.1400</td>\n",
       "      <td>0.165</td>\n",
       "      <td>1.1300</td>\n",
       "    </tr>\n",
       "    <tr>\n",
       "      <th>whole_weight</th>\n",
       "      <td>4177.0</td>\n",
       "      <td>0.828742</td>\n",
       "      <td>0.490389</td>\n",
       "      <td>0.0020</td>\n",
       "      <td>0.4415</td>\n",
       "      <td>0.7995</td>\n",
       "      <td>1.153</td>\n",
       "      <td>2.8255</td>\n",
       "    </tr>\n",
       "    <tr>\n",
       "      <th>shucked_weight</th>\n",
       "      <td>4177.0</td>\n",
       "      <td>0.359367</td>\n",
       "      <td>0.221963</td>\n",
       "      <td>0.0010</td>\n",
       "      <td>0.1860</td>\n",
       "      <td>0.3360</td>\n",
       "      <td>0.502</td>\n",
       "      <td>1.4880</td>\n",
       "    </tr>\n",
       "    <tr>\n",
       "      <th>viscera_weight</th>\n",
       "      <td>4177.0</td>\n",
       "      <td>0.180594</td>\n",
       "      <td>0.109614</td>\n",
       "      <td>0.0005</td>\n",
       "      <td>0.0935</td>\n",
       "      <td>0.1710</td>\n",
       "      <td>0.253</td>\n",
       "      <td>0.7600</td>\n",
       "    </tr>\n",
       "    <tr>\n",
       "      <th>shell_weight</th>\n",
       "      <td>4177.0</td>\n",
       "      <td>0.238831</td>\n",
       "      <td>0.139203</td>\n",
       "      <td>0.0015</td>\n",
       "      <td>0.1300</td>\n",
       "      <td>0.2340</td>\n",
       "      <td>0.329</td>\n",
       "      <td>1.0050</td>\n",
       "    </tr>\n",
       "    <tr>\n",
       "      <th>rings</th>\n",
       "      <td>4177.0</td>\n",
       "      <td>9.933684</td>\n",
       "      <td>3.224169</td>\n",
       "      <td>1.0000</td>\n",
       "      <td>8.0000</td>\n",
       "      <td>9.0000</td>\n",
       "      <td>11.000</td>\n",
       "      <td>29.0000</td>\n",
       "    </tr>\n",
       "    <tr>\n",
       "      <th>age</th>\n",
       "      <td>4177.0</td>\n",
       "      <td>11.433684</td>\n",
       "      <td>3.224169</td>\n",
       "      <td>2.5000</td>\n",
       "      <td>9.5000</td>\n",
       "      <td>10.5000</td>\n",
       "      <td>12.500</td>\n",
       "      <td>30.5000</td>\n",
       "    </tr>\n",
       "  </tbody>\n",
       "</table>\n",
       "</div>"
      ],
      "text/plain": [
       "                 count       mean       std     min     25%      50%     75%  \\\n",
       "length          4177.0   0.523992  0.120093  0.0750  0.4500   0.5450   0.615   \n",
       "diameter        4177.0   0.407881  0.099240  0.0550  0.3500   0.4250   0.480   \n",
       "height          4177.0   0.139516  0.041827  0.0000  0.1150   0.1400   0.165   \n",
       "whole_weight    4177.0   0.828742  0.490389  0.0020  0.4415   0.7995   1.153   \n",
       "shucked_weight  4177.0   0.359367  0.221963  0.0010  0.1860   0.3360   0.502   \n",
       "viscera_weight  4177.0   0.180594  0.109614  0.0005  0.0935   0.1710   0.253   \n",
       "shell_weight    4177.0   0.238831  0.139203  0.0015  0.1300   0.2340   0.329   \n",
       "rings           4177.0   9.933684  3.224169  1.0000  8.0000   9.0000  11.000   \n",
       "age             4177.0  11.433684  3.224169  2.5000  9.5000  10.5000  12.500   \n",
       "\n",
       "                    max  \n",
       "length           0.8150  \n",
       "diameter         0.6500  \n",
       "height           1.1300  \n",
       "whole_weight     2.8255  \n",
       "shucked_weight   1.4880  \n",
       "viscera_weight   0.7600  \n",
       "shell_weight     1.0050  \n",
       "rings           29.0000  \n",
       "age             30.5000  "
      ]
     },
     "execution_count": 10,
     "metadata": {},
     "output_type": "execute_result"
    }
   ],
   "source": [
    "aba_df.describe(include=['int64','float64']).T"
   ]
  },
  {
   "cell_type": "code",
   "execution_count": 11,
   "metadata": {},
   "outputs": [
    {
     "data": {
      "text/html": [
       "<div>\n",
       "<style scoped>\n",
       "    .dataframe tbody tr th:only-of-type {\n",
       "        vertical-align: middle;\n",
       "    }\n",
       "\n",
       "    .dataframe tbody tr th {\n",
       "        vertical-align: top;\n",
       "    }\n",
       "\n",
       "    .dataframe thead th {\n",
       "        text-align: right;\n",
       "    }\n",
       "</style>\n",
       "<table border=\"1\" class=\"dataframe\">\n",
       "  <thead>\n",
       "    <tr style=\"text-align: right;\">\n",
       "      <th></th>\n",
       "      <th>gender</th>\n",
       "      <th>length</th>\n",
       "      <th>diameter</th>\n",
       "      <th>height</th>\n",
       "      <th>whole_weight</th>\n",
       "      <th>shucked_weight</th>\n",
       "      <th>viscera_weight</th>\n",
       "      <th>shell_weight</th>\n",
       "      <th>rings</th>\n",
       "      <th>age</th>\n",
       "    </tr>\n",
       "  </thead>\n",
       "  <tbody>\n",
       "    <tr>\n",
       "      <th>2574</th>\n",
       "      <td>M</td>\n",
       "      <td>0.480</td>\n",
       "      <td>0.370</td>\n",
       "      <td>0.100</td>\n",
       "      <td>0.5135</td>\n",
       "      <td>0.2430</td>\n",
       "      <td>0.1015</td>\n",
       "      <td>0.1350</td>\n",
       "      <td>8</td>\n",
       "      <td>9.5</td>\n",
       "    </tr>\n",
       "    <tr>\n",
       "      <th>3901</th>\n",
       "      <td>F</td>\n",
       "      <td>0.525</td>\n",
       "      <td>0.430</td>\n",
       "      <td>0.125</td>\n",
       "      <td>0.8130</td>\n",
       "      <td>0.3315</td>\n",
       "      <td>0.1660</td>\n",
       "      <td>0.1775</td>\n",
       "      <td>12</td>\n",
       "      <td>13.5</td>\n",
       "    </tr>\n",
       "    <tr>\n",
       "      <th>3054</th>\n",
       "      <td>M</td>\n",
       "      <td>0.600</td>\n",
       "      <td>0.450</td>\n",
       "      <td>0.150</td>\n",
       "      <td>0.8665</td>\n",
       "      <td>0.3695</td>\n",
       "      <td>0.1955</td>\n",
       "      <td>0.2550</td>\n",
       "      <td>12</td>\n",
       "      <td>13.5</td>\n",
       "    </tr>\n",
       "    <tr>\n",
       "      <th>224</th>\n",
       "      <td>I</td>\n",
       "      <td>0.425</td>\n",
       "      <td>0.380</td>\n",
       "      <td>0.105</td>\n",
       "      <td>0.3265</td>\n",
       "      <td>0.1285</td>\n",
       "      <td>0.0785</td>\n",
       "      <td>0.1000</td>\n",
       "      <td>10</td>\n",
       "      <td>11.5</td>\n",
       "    </tr>\n",
       "    <tr>\n",
       "      <th>2813</th>\n",
       "      <td>I</td>\n",
       "      <td>0.255</td>\n",
       "      <td>0.195</td>\n",
       "      <td>0.055</td>\n",
       "      <td>0.0725</td>\n",
       "      <td>0.0285</td>\n",
       "      <td>0.0170</td>\n",
       "      <td>0.0210</td>\n",
       "      <td>4</td>\n",
       "      <td>5.5</td>\n",
       "    </tr>\n",
       "  </tbody>\n",
       "</table>\n",
       "</div>"
      ],
      "text/plain": [
       "     gender  length  diameter  height  whole_weight  shucked_weight  \\\n",
       "2574      M   0.480     0.370   0.100        0.5135          0.2430   \n",
       "3901      F   0.525     0.430   0.125        0.8130          0.3315   \n",
       "3054      M   0.600     0.450   0.150        0.8665          0.3695   \n",
       "224       I   0.425     0.380   0.105        0.3265          0.1285   \n",
       "2813      I   0.255     0.195   0.055        0.0725          0.0285   \n",
       "\n",
       "      viscera_weight  shell_weight  rings   age  \n",
       "2574          0.1015        0.1350      8   9.5  \n",
       "3901          0.1660        0.1775     12  13.5  \n",
       "3054          0.1955        0.2550     12  13.5  \n",
       "224           0.0785        0.1000     10  11.5  \n",
       "2813          0.0170        0.0210      4   5.5  "
      ]
     },
     "execution_count": 11,
     "metadata": {},
     "output_type": "execute_result"
    }
   ],
   "source": [
    "aba_df = aba_df.sample(n=4000, random_state=420)\n",
    "aba_df.sample(5, random_state=420)"
   ]
  },
  {
   "cell_type": "code",
   "execution_count": 12,
   "metadata": {},
   "outputs": [
    {
     "data": {
      "text/html": [
       "<div>\n",
       "<style scoped>\n",
       "    .dataframe tbody tr th:only-of-type {\n",
       "        vertical-align: middle;\n",
       "    }\n",
       "\n",
       "    .dataframe tbody tr th {\n",
       "        vertical-align: top;\n",
       "    }\n",
       "\n",
       "    .dataframe thead th {\n",
       "        text-align: right;\n",
       "    }\n",
       "</style>\n",
       "<table border=\"1\" class=\"dataframe\">\n",
       "  <thead>\n",
       "    <tr style=\"text-align: right;\">\n",
       "      <th></th>\n",
       "      <th>gender</th>\n",
       "      <th>length</th>\n",
       "      <th>diameter</th>\n",
       "      <th>height</th>\n",
       "      <th>whole_weight</th>\n",
       "      <th>shucked_weight</th>\n",
       "      <th>viscera_weight</th>\n",
       "      <th>shell_weight</th>\n",
       "      <th>rings</th>\n",
       "      <th>age</th>\n",
       "    </tr>\n",
       "  </thead>\n",
       "  <tbody>\n",
       "    <tr>\n",
       "      <th>190</th>\n",
       "      <td>M</td>\n",
       "      <td>0.615</td>\n",
       "      <td>0.480</td>\n",
       "      <td>0.180</td>\n",
       "      <td>1.1595</td>\n",
       "      <td>0.4845</td>\n",
       "      <td>0.2165</td>\n",
       "      <td>0.3250</td>\n",
       "      <td>13</td>\n",
       "      <td>14.5</td>\n",
       "    </tr>\n",
       "    <tr>\n",
       "      <th>4102</th>\n",
       "      <td>M</td>\n",
       "      <td>0.680</td>\n",
       "      <td>0.545</td>\n",
       "      <td>0.185</td>\n",
       "      <td>1.6720</td>\n",
       "      <td>0.7075</td>\n",
       "      <td>0.3640</td>\n",
       "      <td>0.4800</td>\n",
       "      <td>11</td>\n",
       "      <td>12.5</td>\n",
       "    </tr>\n",
       "    <tr>\n",
       "      <th>1293</th>\n",
       "      <td>I</td>\n",
       "      <td>0.520</td>\n",
       "      <td>0.400</td>\n",
       "      <td>0.130</td>\n",
       "      <td>0.5825</td>\n",
       "      <td>0.2330</td>\n",
       "      <td>0.1365</td>\n",
       "      <td>0.1800</td>\n",
       "      <td>10</td>\n",
       "      <td>11.5</td>\n",
       "    </tr>\n",
       "    <tr>\n",
       "      <th>1800</th>\n",
       "      <td>M</td>\n",
       "      <td>0.605</td>\n",
       "      <td>0.475</td>\n",
       "      <td>0.175</td>\n",
       "      <td>1.2525</td>\n",
       "      <td>0.5575</td>\n",
       "      <td>0.3055</td>\n",
       "      <td>0.3430</td>\n",
       "      <td>9</td>\n",
       "      <td>10.5</td>\n",
       "    </tr>\n",
       "    <tr>\n",
       "      <th>1167</th>\n",
       "      <td>M</td>\n",
       "      <td>0.620</td>\n",
       "      <td>0.470</td>\n",
       "      <td>0.135</td>\n",
       "      <td>1.0195</td>\n",
       "      <td>0.5315</td>\n",
       "      <td>0.2005</td>\n",
       "      <td>0.2475</td>\n",
       "      <td>8</td>\n",
       "      <td>9.5</td>\n",
       "    </tr>\n",
       "    <tr>\n",
       "      <th>...</th>\n",
       "      <td>...</td>\n",
       "      <td>...</td>\n",
       "      <td>...</td>\n",
       "      <td>...</td>\n",
       "      <td>...</td>\n",
       "      <td>...</td>\n",
       "      <td>...</td>\n",
       "      <td>...</td>\n",
       "      <td>...</td>\n",
       "      <td>...</td>\n",
       "    </tr>\n",
       "    <tr>\n",
       "      <th>2094</th>\n",
       "      <td>I</td>\n",
       "      <td>0.405</td>\n",
       "      <td>0.305</td>\n",
       "      <td>0.090</td>\n",
       "      <td>0.2825</td>\n",
       "      <td>0.1140</td>\n",
       "      <td>0.0575</td>\n",
       "      <td>0.0950</td>\n",
       "      <td>7</td>\n",
       "      <td>8.5</td>\n",
       "    </tr>\n",
       "    <tr>\n",
       "      <th>894</th>\n",
       "      <td>I</td>\n",
       "      <td>0.240</td>\n",
       "      <td>0.175</td>\n",
       "      <td>0.065</td>\n",
       "      <td>0.0665</td>\n",
       "      <td>0.0310</td>\n",
       "      <td>0.0135</td>\n",
       "      <td>0.0170</td>\n",
       "      <td>3</td>\n",
       "      <td>4.5</td>\n",
       "    </tr>\n",
       "    <tr>\n",
       "      <th>1326</th>\n",
       "      <td>M</td>\n",
       "      <td>0.565</td>\n",
       "      <td>0.445</td>\n",
       "      <td>0.150</td>\n",
       "      <td>0.7960</td>\n",
       "      <td>0.3635</td>\n",
       "      <td>0.1840</td>\n",
       "      <td>0.2190</td>\n",
       "      <td>8</td>\n",
       "      <td>9.5</td>\n",
       "    </tr>\n",
       "    <tr>\n",
       "      <th>2407</th>\n",
       "      <td>I</td>\n",
       "      <td>0.625</td>\n",
       "      <td>0.430</td>\n",
       "      <td>0.175</td>\n",
       "      <td>1.4110</td>\n",
       "      <td>0.5720</td>\n",
       "      <td>0.2970</td>\n",
       "      <td>0.3950</td>\n",
       "      <td>12</td>\n",
       "      <td>13.5</td>\n",
       "    </tr>\n",
       "    <tr>\n",
       "      <th>2582</th>\n",
       "      <td>M</td>\n",
       "      <td>0.530</td>\n",
       "      <td>0.410</td>\n",
       "      <td>0.140</td>\n",
       "      <td>0.6810</td>\n",
       "      <td>0.3095</td>\n",
       "      <td>0.1415</td>\n",
       "      <td>0.1835</td>\n",
       "      <td>6</td>\n",
       "      <td>7.5</td>\n",
       "    </tr>\n",
       "  </tbody>\n",
       "</table>\n",
       "<p>4000 rows × 10 columns</p>\n",
       "</div>"
      ],
      "text/plain": [
       "     gender  length  diameter  height  whole_weight  shucked_weight  \\\n",
       "190       M   0.615     0.480   0.180        1.1595          0.4845   \n",
       "4102      M   0.680     0.545   0.185        1.6720          0.7075   \n",
       "1293      I   0.520     0.400   0.130        0.5825          0.2330   \n",
       "1800      M   0.605     0.475   0.175        1.2525          0.5575   \n",
       "1167      M   0.620     0.470   0.135        1.0195          0.5315   \n",
       "...     ...     ...       ...     ...           ...             ...   \n",
       "2094      I   0.405     0.305   0.090        0.2825          0.1140   \n",
       "894       I   0.240     0.175   0.065        0.0665          0.0310   \n",
       "1326      M   0.565     0.445   0.150        0.7960          0.3635   \n",
       "2407      I   0.625     0.430   0.175        1.4110          0.5720   \n",
       "2582      M   0.530     0.410   0.140        0.6810          0.3095   \n",
       "\n",
       "      viscera_weight  shell_weight  rings   age  \n",
       "190           0.2165        0.3250     13  14.5  \n",
       "4102          0.3640        0.4800     11  12.5  \n",
       "1293          0.1365        0.1800     10  11.5  \n",
       "1800          0.3055        0.3430      9  10.5  \n",
       "1167          0.2005        0.2475      8   9.5  \n",
       "...              ...           ...    ...   ...  \n",
       "2094          0.0575        0.0950      7   8.5  \n",
       "894           0.0135        0.0170      3   4.5  \n",
       "1326          0.1840        0.2190      8   9.5  \n",
       "2407          0.2970        0.3950     12  13.5  \n",
       "2582          0.1415        0.1835      6   7.5  \n",
       "\n",
       "[4000 rows x 10 columns]"
      ]
     },
     "execution_count": 12,
     "metadata": {},
     "output_type": "execute_result"
    }
   ],
   "source": [
    "aba_df"
   ]
  },
  {
   "cell_type": "markdown",
   "metadata": {},
   "source": [
    "# Data exploration and visualization\n",
    "cleaned dataset will now be used to ......."
   ]
  },
  {
   "cell_type": "markdown",
   "metadata": {},
   "source": [
    "### One-variable Plots Visualization\n",
    "#### Bar Chart of Gender\n",
    "fewafewafewafewafewafewafewa"
   ]
  },
  {
   "cell_type": "code",
   "execution_count": 62,
   "metadata": {},
   "outputs": [
    {
     "data": {
      "image/png": "[encoded data removed]",
      "text/plain": [
       "<Figure size 720x576 with 1 Axes>"
      ]
     },
     "metadata": {
      "image/png": {
       "height": 501,
       "width": 625
      }
     },
     "output_type": "display_data"
    }
   ],
   "source": [
    "\n",
    "plt.figure(figsize = (10,8))\n",
    "fig = sns.countplot(x = 'Gender', data = aba_df, palette = 'crest', order = aba_df['Gender'].value_counts().index) \n",
    "fig = plt.title('Figure 1: Plot Of The Frequency Of Each Gender')\n",
    "plt.show()            "
   ]
  },
  {
   "cell_type": "code",
   "execution_count": 80,
   "metadata": {},
   "outputs": [
    {
     "data": {
      "image/png": "[encoded data removed]",
      "text/plain": [
       "<Figure size 432x288 with 1 Axes>"
      ]
     },
     "metadata": {
      "image/png": {
       "height": 267,
       "width": 402
      }
     },
     "output_type": "display_data"
    }
   ],
   "source": [
    "plt.hist(aba_df[\"Age\"])\n",
    "plt.xlabel(\"Age (years)\")\n",
    "plt.ylabel(\"Frequency\")\n",
    "plt.show()"
   ]
  },
  {
   "cell_type": "code",
   "execution_count": 81,
   "metadata": {},
   "outputs": [
    {
     "data": {
      "image/png": "[encoded data removed]",
      "text/plain": [
       "<Figure size 432x288 with 1 Axes>"
      ]
     },
     "metadata": {
      "image/png": {
       "height": 267,
       "width": 395
      }
     },
     "output_type": "display_data"
    }
   ],
   "source": [
    "plt.hist(aba_df[\"Whole weight\"])\n",
    "plt.xlabel(\"Weight (kg)\")\n",
    "plt.ylabel(\"Frequency\")\n",
    "plt.show()"
   ]
  },
  {
   "cell_type": "code",
   "execution_count": 84,
   "metadata": {},
   "outputs": [
    {
     "data": {
      "image/png": "[encoded data removed]",
      "text/plain": [
       "<Figure size 432x288 with 1 Axes>"
      ]
     },
     "metadata": {
      "image/png": {
       "height": 267,
       "width": 402
      }
     },
     "output_type": "display_data"
    }
   ],
   "source": [
    "plt.hist(aba_df['Length'])\n",
    "plt.xlabel(\"Length in feet\")\n",
    "plt.ylabel(\"Frequency\")\n",
    "plt.show()"
   ]
  },
  {
   "cell_type": "code",
   "execution_count": 85,
   "metadata": {},
   "outputs": [
    {
     "data": {
      "image/png": "[encoded data removed]",
      "text/plain": [
       "<Figure size 432x288 with 1 Axes>"
      ]
     },
     "metadata": {
      "image/png": {
       "height": 267,
       "width": 402
      }
     },
     "output_type": "display_data"
    }
   ],
   "source": [
    "plt.hist(aba_df['Height'])\n",
    "plt.xlabel(\"Height in feet\")\n",
    "plt.ylabel(\"Frequency\")\n",
    "plt.show()"
   ]
  },
  {
   "cell_type": "markdown",
   "metadata": {},
   "source": [
    "### Two-variable Plots Visualization\n",
    "#### Rings x Weight scatter\n",
    "#### whole_weight x viscera_weight line\n",
    "####\n",
    "####\n",
    "####"
   ]
  },
  {
   "cell_type": "markdown",
   "metadata": {},
   "source": [
    "Length and weight scatterplot"
   ]
  },
  {
   "cell_type": "code",
   "execution_count": 99,
   "metadata": {},
   "outputs": [
    {
     "data": {
      "image/png": "[encoded data removed]",
      "text/plain": [
       "<Figure size 432x288 with 1 Axes>"
      ]
     },
     "metadata": {
      "image/png": {
       "height": 267,
       "width": 392
      }
     },
     "output_type": "display_data"
    }
   ],
   "source": [
    "plt.scatter(aba_df['Length'], aba_df['Whole weight'], color = \"red\", alpha=0.3)\n",
    "plt.xlabel(\"Length in feet\")\n",
    "plt.ylabel(\"Whole weight in kilograms\")\n",
    "plt.show()"
   ]
  },
  {
   "cell_type": "markdown",
   "metadata": {},
   "source": [
    "### Gender and Length"
   ]
  },
  {
   "cell_type": "code",
   "execution_count": 97,
   "metadata": {},
   "outputs": [
    {
     "ename": "ValueError",
     "evalue": "Cannot pass values for both `x` and `y`",
     "output_type": "error",
     "traceback": [
      "\u001b[0;31m---------------------------------------------------------------------------\u001b[0m",
      "\u001b[0;31mValueError\u001b[0m                                Traceback (most recent call last)",
      "\u001b[1;32m/home/eddy/Code/Mathematics-for-Computing-2/math_2_project/Phase1_Group29.ipynb Cell 33\u001b[0m in \u001b[0;36m<cell line: 2>\u001b[0;34m()\u001b[0m\n\u001b[1;32m      <a href='vscode-notebook-cell:/home/eddy/Code/Mathematics-for-Computing-2/math_2_project/Phase1_Group29.ipynb#X46sZmlsZQ%3D%3D?line=0'>1</a>\u001b[0m plt\u001b[39m.\u001b[39mfigure(figsize \u001b[39m=\u001b[39m (\u001b[39m10\u001b[39m,\u001b[39m8\u001b[39m))\n\u001b[0;32m----> <a href='vscode-notebook-cell:/home/eddy/Code/Mathematics-for-Computing-2/math_2_project/Phase1_Group29.ipynb#X46sZmlsZQ%3D%3D?line=1'>2</a>\u001b[0m fig \u001b[39m=\u001b[39m sns\u001b[39m.\u001b[39;49mcountplot(x \u001b[39m=\u001b[39;49m \u001b[39m'\u001b[39;49m\u001b[39mGender\u001b[39;49m\u001b[39m'\u001b[39;49m, y \u001b[39m=\u001b[39;49m aba_df[\u001b[39m'\u001b[39;49m\u001b[39mLength\u001b[39;49m\u001b[39m'\u001b[39;49m], data \u001b[39m=\u001b[39;49m aba_df, palette \u001b[39m=\u001b[39;49m \u001b[39m'\u001b[39;49m\u001b[39mcrest\u001b[39;49m\u001b[39m'\u001b[39;49m, order \u001b[39m=\u001b[39;49m aba_df[\u001b[39m'\u001b[39;49m\u001b[39mGender\u001b[39;49m\u001b[39m'\u001b[39;49m]\u001b[39m.\u001b[39;49mvalue_counts()\u001b[39m.\u001b[39;49mindex) \n\u001b[1;32m      <a href='vscode-notebook-cell:/home/eddy/Code/Mathematics-for-Computing-2/math_2_project/Phase1_Group29.ipynb#X46sZmlsZQ%3D%3D?line=2'>3</a>\u001b[0m fig \u001b[39m=\u001b[39m plt\u001b[39m.\u001b[39mtitle(\u001b[39m'\u001b[39m\u001b[39mFigure 1: Plot Of The Frequency Of Each Gender\u001b[39m\u001b[39m'\u001b[39m)\n\u001b[1;32m      <a href='vscode-notebook-cell:/home/eddy/Code/Mathematics-for-Computing-2/math_2_project/Phase1_Group29.ipynb#X46sZmlsZQ%3D%3D?line=3'>4</a>\u001b[0m plt\u001b[39m.\u001b[39mshow()\n",
      "File \u001b[0;32m~/anaconda3/lib/python3.9/site-packages/seaborn/_decorators.py:46\u001b[0m, in \u001b[0;36m_deprecate_positional_args.<locals>.inner_f\u001b[0;34m(*args, **kwargs)\u001b[0m\n\u001b[1;32m     36\u001b[0m     warnings\u001b[39m.\u001b[39mwarn(\n\u001b[1;32m     37\u001b[0m         \u001b[39m\"\u001b[39m\u001b[39mPass the following variable\u001b[39m\u001b[39m{}\u001b[39;00m\u001b[39m as \u001b[39m\u001b[39m{}\u001b[39;00m\u001b[39mkeyword arg\u001b[39m\u001b[39m{}\u001b[39;00m\u001b[39m: \u001b[39m\u001b[39m{}\u001b[39;00m\u001b[39m. \u001b[39m\u001b[39m\"\u001b[39m\n\u001b[1;32m     38\u001b[0m         \u001b[39m\"\u001b[39m\u001b[39mFrom version 0.12, the only valid positional argument \u001b[39m\u001b[39m\"\u001b[39m\n\u001b[0;32m   (...)\u001b[0m\n\u001b[1;32m     43\u001b[0m         \u001b[39mFutureWarning\u001b[39;00m\n\u001b[1;32m     44\u001b[0m     )\n\u001b[1;32m     45\u001b[0m kwargs\u001b[39m.\u001b[39mupdate({k: arg \u001b[39mfor\u001b[39;00m k, arg \u001b[39min\u001b[39;00m \u001b[39mzip\u001b[39m(sig\u001b[39m.\u001b[39mparameters, args)})\n\u001b[0;32m---> 46\u001b[0m \u001b[39mreturn\u001b[39;00m f(\u001b[39m*\u001b[39;49m\u001b[39m*\u001b[39;49mkwargs)\n",
      "File \u001b[0;32m~/anaconda3/lib/python3.9/site-packages/seaborn/categorical.py:3596\u001b[0m, in \u001b[0;36mcountplot\u001b[0;34m(x, y, hue, data, order, hue_order, orient, color, palette, saturation, dodge, ax, **kwargs)\u001b[0m\n\u001b[1;32m   3594\u001b[0m     y \u001b[39m=\u001b[39m x\n\u001b[1;32m   3595\u001b[0m \u001b[39melif\u001b[39;00m x \u001b[39mis\u001b[39;00m \u001b[39mnot\u001b[39;00m \u001b[39mNone\u001b[39;00m \u001b[39mand\u001b[39;00m y \u001b[39mis\u001b[39;00m \u001b[39mnot\u001b[39;00m \u001b[39mNone\u001b[39;00m:\n\u001b[0;32m-> 3596\u001b[0m     \u001b[39mraise\u001b[39;00m \u001b[39mValueError\u001b[39;00m(\u001b[39m\"\u001b[39m\u001b[39mCannot pass values for both `x` and `y`\u001b[39m\u001b[39m\"\u001b[39m)\n\u001b[1;32m   3598\u001b[0m plotter \u001b[39m=\u001b[39m _CountPlotter(\n\u001b[1;32m   3599\u001b[0m     x, y, hue, data, order, hue_order,\n\u001b[1;32m   3600\u001b[0m     estimator, ci, n_boot, units, seed,\n\u001b[1;32m   3601\u001b[0m     orient, color, palette, saturation,\n\u001b[1;32m   3602\u001b[0m     errcolor, errwidth, capsize, dodge\n\u001b[1;32m   3603\u001b[0m )\n\u001b[1;32m   3605\u001b[0m plotter\u001b[39m.\u001b[39mvalue_label \u001b[39m=\u001b[39m \u001b[39m\"\u001b[39m\u001b[39mcount\u001b[39m\u001b[39m\"\u001b[39m\n",
      "\u001b[0;31mValueError\u001b[0m: Cannot pass values for both `x` and `y`"
     ]
    },
    {
     "data": {
      "text/plain": [
       "<Figure size 720x576 with 0 Axes>"
      ]
     },
     "metadata": {},
     "output_type": "display_data"
    }
   ],
   "source": [
    "plt.figure(figsize = (10,8))\n",
    "fig = sns.countplot(x = 'Gender', y = aba_df['Length'], data = aba_df, palette = 'crest', order = aba_df['Gender'].value_counts().index) \n",
    "fig = plt.title('Figure 1: Plot Of The Frequency Of Each Gender')\n",
    "plt.show()            "
   ]
  },
  {
   "cell_type": "markdown",
   "metadata": {},
   "source": [
    "### Three-variable Plots Visualization\n",
    "####\n",
    "####\n",
    "####\n",
    "####\n",
    "####\n"
   ]
  }
 ],
 "metadata": {
  "colab": {
   "collapsed_sections": [],
   "provenance": []
  },
  "kernelspec": {
   "display_name": "Python 3 (ipykernel)",
   "language": "python",
   "name": "python3"
  },
  "language_info": {
   "codemirror_mode": {
    "name": "ipython",
    "version": 3
   },
   "file_extension": ".py",
   "mimetype": "text/x-python",
   "name": "python",
   "nbconvert_exporter": "python",
   "pygments_lexer": "ipython3",
   "version": "3.9.12"
  },
  "vscode": {
   "interpreter": {
    "hash": "76a3bc9255eea33c69168b4a38087659798941f4979d26c6cc1c474f63c303e2"
   }
  }
 },
 "nbformat": 4,
 "nbformat_minor": 1
}
