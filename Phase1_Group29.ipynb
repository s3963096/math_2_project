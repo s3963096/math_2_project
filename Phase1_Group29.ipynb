{
  "cells": [
    {
      "cell_type": "markdown",
      "metadata": {
        "id": "5Wqm6ibaMbxs"
      },
      "source": [
        "# Predicting Abalone Age\n",
        "## Phase 1: Data Preparation & Visualization\n",
        "**Group Name: Group 29**\n",
        "\n",
        "**Name(s) & ID(s) of Group Members:**\n",
        "\n",
        "\n",
        "Chris Park (s3973667),\n",
        "Henry Van Toledo (s3849054),\n",
        "Luka Finn Shannon Hill (s3948396),\n",
        "Wai Yan Lin (s3963096)\n",
        "***"
      ]
    },
    {
      "cell_type": "markdown",
      "metadata": {},
      "source": [
        "## Table of contents\n",
        "* [Introduction](#itr)\n",
        "    + [Dataset Source](#dataset-source)\n",
        "    + [Dataset Details](#dataset-details)\n",
        "    + [Dataset Variables](#dataset-variables)\n",
        "    + [Response Variable](#response-variable)\n",
        "* [Goals and Objectives](#goals-and-objectives)\n",
        "***"
      ]
    },
    {
      "cell_type": "markdown",
      "metadata": {},
      "source": [
        "## Introduction <a id=\"itr\"></a>\n",
        "### Dataset Source\n",
        "The abalone dataset used in this notebook was sourced from the UCI machine learning repository which was provided in Akmand's dataset repository. This dataset conatins several different attributes relating to an abalone's weights, measurements, gender and rings. "
      ]
    },
    {
      "cell_type": "markdown",
      "metadata": {},
      "source": [
        "## Dataset Details\n",
        "\n",
        "This dataset is simply about abalones and contains information on the properties of each individual abalone added to the database. These properties are the physical measurements, physical weights, gender, and the number of rings of an abalone. We will be using this data to predict the age of an abalone which is determined by the number of rings on it plus 1.5."
      ]
    },
    {
      "cell_type": "code",
      "execution_count": 12,
      "metadata": {
        "colab": {
          "base_uri": "https://localhost:8080/",
          "height": 424
        },
        "id": "Ox0lIp-a5JUv",
        "outputId": "2efbdedd-9158-475f-9973-af185298afc6"
      },
      "outputs": [
        {
          "data": {
            "text/html": [
              "<div>\n",
              "<style scoped>\n",
              "    .dataframe tbody tr th:only-of-type {\n",
              "        vertical-align: middle;\n",
              "    }\n",
              "\n",
              "    .dataframe tbody tr th {\n",
              "        vertical-align: top;\n",
              "    }\n",
              "\n",
              "    .dataframe thead th {\n",
              "        text-align: right;\n",
              "    }\n",
              "</style>\n",
              "<table border=\"1\" class=\"dataframe\">\n",
              "  <thead>\n",
              "    <tr style=\"text-align: right;\">\n",
              "      <th></th>\n",
              "      <th>Gender</th>\n",
              "      <th>Length</th>\n",
              "      <th>Diameter</th>\n",
              "      <th>Height</th>\n",
              "      <th>Whole weight</th>\n",
              "      <th>Shucked weight</th>\n",
              "      <th>Viscera weight</th>\n",
              "      <th>Shell weight</th>\n",
              "      <th>Rings</th>\n",
              "    </tr>\n",
              "  </thead>\n",
              "  <tbody>\n",
              "    <tr>\n",
              "      <th>3259</th>\n",
              "      <td>M</td>\n",
              "      <td>0.640</td>\n",
              "      <td>0.505</td>\n",
              "      <td>0.165</td>\n",
              "      <td>1.4435</td>\n",
              "      <td>0.6145</td>\n",
              "      <td>0.3035</td>\n",
              "      <td>0.3900</td>\n",
              "      <td>18</td>\n",
              "    </tr>\n",
              "    <tr>\n",
              "      <th>3583</th>\n",
              "      <td>F</td>\n",
              "      <td>0.625</td>\n",
              "      <td>0.500</td>\n",
              "      <td>0.175</td>\n",
              "      <td>1.2730</td>\n",
              "      <td>0.5640</td>\n",
              "      <td>0.3020</td>\n",
              "      <td>0.3740</td>\n",
              "      <td>9</td>\n",
              "    </tr>\n",
              "    <tr>\n",
              "      <th>1932</th>\n",
              "      <td>F</td>\n",
              "      <td>0.620</td>\n",
              "      <td>0.495</td>\n",
              "      <td>0.170</td>\n",
              "      <td>1.0620</td>\n",
              "      <td>0.3720</td>\n",
              "      <td>0.2130</td>\n",
              "      <td>0.3400</td>\n",
              "      <td>11</td>\n",
              "    </tr>\n",
              "    <tr>\n",
              "      <th>3328</th>\n",
              "      <td>I</td>\n",
              "      <td>0.575</td>\n",
              "      <td>0.475</td>\n",
              "      <td>0.170</td>\n",
              "      <td>0.9670</td>\n",
              "      <td>0.3775</td>\n",
              "      <td>0.2840</td>\n",
              "      <td>0.2750</td>\n",
              "      <td>13</td>\n",
              "    </tr>\n",
              "    <tr>\n",
              "      <th>2426</th>\n",
              "      <td>I</td>\n",
              "      <td>0.565</td>\n",
              "      <td>0.435</td>\n",
              "      <td>0.155</td>\n",
              "      <td>0.7820</td>\n",
              "      <td>0.2715</td>\n",
              "      <td>0.1680</td>\n",
              "      <td>0.2850</td>\n",
              "      <td>14</td>\n",
              "    </tr>\n",
              "    <tr>\n",
              "      <th>2353</th>\n",
              "      <td>F</td>\n",
              "      <td>0.720</td>\n",
              "      <td>0.560</td>\n",
              "      <td>0.175</td>\n",
              "      <td>1.7265</td>\n",
              "      <td>0.6370</td>\n",
              "      <td>0.3415</td>\n",
              "      <td>0.5250</td>\n",
              "      <td>17</td>\n",
              "    </tr>\n",
              "    <tr>\n",
              "      <th>708</th>\n",
              "      <td>M</td>\n",
              "      <td>0.360</td>\n",
              "      <td>0.295</td>\n",
              "      <td>0.130</td>\n",
              "      <td>0.2765</td>\n",
              "      <td>0.0895</td>\n",
              "      <td>0.0570</td>\n",
              "      <td>0.1005</td>\n",
              "      <td>10</td>\n",
              "    </tr>\n",
              "    <tr>\n",
              "      <th>1168</th>\n",
              "      <td>M</td>\n",
              "      <td>0.620</td>\n",
              "      <td>0.450</td>\n",
              "      <td>0.200</td>\n",
              "      <td>0.8580</td>\n",
              "      <td>0.4285</td>\n",
              "      <td>0.1525</td>\n",
              "      <td>0.2405</td>\n",
              "      <td>8</td>\n",
              "    </tr>\n",
              "    <tr>\n",
              "      <th>120</th>\n",
              "      <td>F</td>\n",
              "      <td>0.470</td>\n",
              "      <td>0.365</td>\n",
              "      <td>0.105</td>\n",
              "      <td>0.4205</td>\n",
              "      <td>0.1630</td>\n",
              "      <td>0.1035</td>\n",
              "      <td>0.1400</td>\n",
              "      <td>9</td>\n",
              "    </tr>\n",
              "    <tr>\n",
              "      <th>2041</th>\n",
              "      <td>I</td>\n",
              "      <td>0.325</td>\n",
              "      <td>0.240</td>\n",
              "      <td>0.070</td>\n",
              "      <td>0.1520</td>\n",
              "      <td>0.0565</td>\n",
              "      <td>0.0305</td>\n",
              "      <td>0.0540</td>\n",
              "      <td>8</td>\n",
              "    </tr>\n",
              "  </tbody>\n",
              "</table>\n",
              "</div>"
            ],
            "text/plain": [
              "     Gender  Length  Diameter  Height  Whole weight  Shucked weight  \\\n",
              "3259      M   0.640     0.505   0.165        1.4435          0.6145   \n",
              "3583      F   0.625     0.500   0.175        1.2730          0.5640   \n",
              "1932      F   0.620     0.495   0.170        1.0620          0.3720   \n",
              "3328      I   0.575     0.475   0.170        0.9670          0.3775   \n",
              "2426      I   0.565     0.435   0.155        0.7820          0.2715   \n",
              "2353      F   0.720     0.560   0.175        1.7265          0.6370   \n",
              "708       M   0.360     0.295   0.130        0.2765          0.0895   \n",
              "1168      M   0.620     0.450   0.200        0.8580          0.4285   \n",
              "120       F   0.470     0.365   0.105        0.4205          0.1630   \n",
              "2041      I   0.325     0.240   0.070        0.1520          0.0565   \n",
              "\n",
              "      Viscera weight  Shell weight  Rings  \n",
              "3259          0.3035        0.3900     18  \n",
              "3583          0.3020        0.3740      9  \n",
              "1932          0.2130        0.3400     11  \n",
              "3328          0.2840        0.2750     13  \n",
              "2426          0.1680        0.2850     14  \n",
              "2353          0.3415        0.5250     17  \n",
              "708           0.0570        0.1005     10  \n",
              "1168          0.1525        0.2405      8  \n",
              "120           0.1035        0.1400      9  \n",
              "2041          0.0305        0.0540      8  "
            ]
          },
          "execution_count": 12,
          "metadata": {},
          "output_type": "execute_result"
        }
      ],
      "source": [
        "# Imports\n",
        "import pandas as pd\n",
        "import numpy as np\n",
        "import matplotlib as plt\n",
        "pd.set_option('display.max_columns', None) \n",
        "\n",
        "# Imported the database that we obtained from the github repository provided in the modules\n",
        "aba_df = pd.read_csv(\"https://raw.githubusercontent.com/akmand/datasets/main/abolone.csv\")\n",
        "aba_df.sample(10, random_state=999)"
      ]
    },
    {
      "cell_type": "markdown",
      "metadata": {},
      "source": [
        "## Dataset Variables"
      ]
    },
    {
      "cell_type": "code",
      "execution_count": 4,
      "metadata": {},
      "outputs": [
        {
          "name": "stdout",
          "output_type": "stream",
          "text": [
            "╒════════════════╤═════════════════════╤════════════╤══════════════════════════════════════════════════════════════════════╕\n",
            "│ Name           │ Data Type           │ Units      │ Description                                                          │\n",
            "╞════════════════╪═════════════════════╪════════════╪══════════════════════════════════════════════════════════════════════╡\n",
            "│ Gender         │ Nominal Catagorical │ NA         │ M - Male                                                             │\n",
            "│                │                     │            │  F - Female                                                          │\n",
            "│                │                     │            │  I - Infant                                                          │\n",
            "├────────────────┼─────────────────────┼────────────┼──────────────────────────────────────────────────────────────────────┤\n",
            "│ Length         │ Numeric             │ Millimeter │ Longest shell measurement                                            │\n",
            "├────────────────┼─────────────────────┼────────────┼──────────────────────────────────────────────────────────────────────┤\n",
            "│ Diameter       │ Numeric             │ Millimeter │ Diameter of Abalone perpendicular to length                          │\n",
            "├────────────────┼─────────────────────┼────────────┼──────────────────────────────────────────────────────────────────────┤\n",
            "│ Height         │ Numeric             │ Millimeter │ Height of abalone with meat in shell                                 │\n",
            "├────────────────┼─────────────────────┼────────────┼──────────────────────────────────────────────────────────────────────┤\n",
            "│ Whole weight   │ Numeric             │ Grams      │ Weight of whole abalone                                              │\n",
            "├────────────────┼─────────────────────┼────────────┼──────────────────────────────────────────────────────────────────────┤\n",
            "│ Shucked weight │ Numeric             │ Grams      │ Weight of meat inside the abalone                                    │\n",
            "├────────────────┼─────────────────────┼────────────┼──────────────────────────────────────────────────────────────────────┤\n",
            "│ Shucked weight │ Numeric             │ Grams      │ Weight of flesh after bleeding                                       │\n",
            "├────────────────┼─────────────────────┼────────────┼──────────────────────────────────────────────────────────────────────┤\n",
            "│ Shell weight   │ Numeric             │ Grams      │ Weight after being dried                                             │\n",
            "├────────────────┼─────────────────────┼────────────┼──────────────────────────────────────────────────────────────────────┤\n",
            "│ Rings          │ Numeric             │ Integer    │ Gives the age of the abalone after adding 1.5 to the number of rings │\n",
            "╘════════════════╧═════════════════════╧════════════╧══════════════════════════════════════════════════════════════════════╛\n"
          ]
        }
      ],
      "source": [
        "from tabulate import tabulate\n",
        "\n",
        "table = [['Name','Data Type','Units','Description'],\n",
        "         ['Gender','Nominal Catagorical','NA','M - Male \\n F - Female \\n I - Infant'],\n",
        "         ['Length','Numeric', 'Millimeter', 'Longest shell measurement' ],\n",
        "         ['Diameter', 'Numeric', 'Millimeter', 'Diameter of Abalone perpendicular to length' ],\n",
        "         ['Height', 'Numeric', 'Millimeter', 'Height of abalone with meat in shell'],\n",
        "         ['Whole weight', 'Numeric', 'Grams', 'Weight of whole abalone'],\n",
        "         ['Shucked weight', 'Numeric', 'Grams', 'Weight of meat inside the abalone'],\n",
        "         ['Shucked weight', 'Numeric', 'Grams', 'Weight of flesh after bleeding'],\n",
        "         ['Shell weight', 'Numeric', 'Grams', 'Weight after being dried'],\n",
        "         ['Rings', 'Numeric', 'Integer', 'Gives the age of the abalone after adding 1.5 to the number of rings' ]]\n",
        "print(tabulate(table, headers='firstrow', tablefmt='fancy_grid'))"
      ]
    },
    {
      "cell_type": "markdown",
      "metadata": {},
      "source": [
        "### Data Cleaning Steps\n",
        "- Check for missing values\n",
        "- Remove all the rows with missing values\n",
        "- Random sampling of the dataset for 5000 rows"
      ]
    },
    {
      "cell_type": "code",
      "execution_count": null,
      "metadata": {},
      "outputs": [],
      "source": []
    },
    {
      "cell_type": "markdown",
      "metadata": {},
      "source": [
        "## Response Variable"
      ]
    },
    {
      "cell_type": "markdown",
      "metadata": {},
      "source": [
        "## Goals and Objectives"
      ]
    }
  ],
  "metadata": {
    "colab": {
      "collapsed_sections": [],
      "provenance": []
    },
    "kernelspec": {
      "display_name": "Python 3.9.12 ('base')",
      "language": "python",
      "name": "python3"
    },
    "language_info": {
      "codemirror_mode": {
        "name": "ipython",
        "version": 3
      },
      "file_extension": ".py",
      "mimetype": "text/x-python",
      "name": "python",
      "nbconvert_exporter": "python",
      "pygments_lexer": "ipython3",
      "version": "3.9.12"
    },
    "vscode": {
      "interpreter": {
        "hash": "76a3bc9255eea33c69168b4a38087659798941f4979d26c6cc1c474f63c303e2"
      }
    }
  },
  "nbformat": 4,
  "nbformat_minor": 0
}
